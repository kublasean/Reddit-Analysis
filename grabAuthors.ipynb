{
 "cells": [
  {
   "cell_type": "code",
   "execution_count": 5,
   "metadata": {
    "collapsed": true
   },
   "outputs": [],
   "source": [
    "import praw\n",
    "import time\n",
    "import datetime"
   ]
  },
  {
   "cell_type": "code",
   "execution_count": 6,
   "metadata": {
    "collapsed": true
   },
   "outputs": [],
   "source": [
    "reddit = praw.Reddit(client_id='qJwY2ZzRahm-GQ',\n",
    "                     client_secret='lkZjzt2g6MutrTm3D7c7hNl5R6w',\n",
    "                     user_agent='linux:reddit-analysis:v1.0.0 (by /u/DigitalArcheology)',\n",
    "                     username='DigitalArcheology',\n",
    "                     password='GOvols!2017')"
   ]
  },
  {
   "cell_type": "code",
   "execution_count": 7,
   "metadata": {
    "collapsed": true
   },
   "outputs": [],
   "source": [
    "sub = reddit.subreddit('worldnews')"
   ]
  },
  {
   "cell_type": "code",
   "execution_count": 8,
   "metadata": {},
   "outputs": [],
   "source": [
    "timestamp_01Jan = time.mktime(datetime.date(2017, 1, 1).timetuple())\n",
    "timestemp_31Jan = time.mktime(datetime.date(2017, 1, 31).timetuple())"
   ]
  },
  {
   "cell_type": "code",
   "execution_count": 13,
   "metadata": {},
   "outputs": [],
   "source": [
    "submissions=[]\n",
    "\n",
    "\n",
    "for submission in sub.submissions(start=timestamp_01Jan, end=timestemp_31Jan):\n",
    "    if len(submissions) < 5:\n",
    "        submissions.append(submission)\n",
    "    else:\n",
    "        break\n",
    "    "
   ]
  },
  {
   "cell_type": "code",
   "execution_count": 14,
   "metadata": {},
   "outputs": [
    {
     "data": {
      "text/plain": [
       "5"
      ]
     },
     "execution_count": 14,
     "metadata": {},
     "output_type": "execute_result"
    }
   ],
   "source": [
    "len(submissions)"
   ]
  },
  {
   "cell_type": "code",
   "execution_count": 16,
   "metadata": {},
   "outputs": [
    {
     "name": "stdout",
     "output_type": "stream",
     "text": [
      "40\n",
      "1\n",
      "214\n",
      "4\n",
      "4\n"
     ]
    }
   ],
   "source": [
    "for submission in submissions:\n",
    "    print (submission.num_comments)"
   ]
  },
  {
   "cell_type": "code",
   "execution_count": 36,
   "metadata": {
    "scrolled": false
   },
   "outputs": [
    {
     "name": "stdout",
     "output_type": "stream",
     "text": [
      "Sub Author:  JamesColesPardon\n",
      "spacelordmofo\n",
      "Werpogil\n",
      "powerroots99\n",
      "im-the-stig\n",
      "7331osuraC\n",
      "an_internet_denizen\n",
      "crea7or\n",
      "chillpill69\n",
      "Tobeck\n",
      "5yearsinthefuture\n",
      "BobCox\n",
      "courey\n",
      "Reali5t\n",
      "frisktoad\n",
      "cuteman\n",
      "greenday5494\n",
      "frisktoad\n",
      "Navi_Here\n",
      "the6crimson6fucker6\n",
      "MetaParser\n",
      "IanalystI\n",
      "nounhud\n",
      "LeiFengsEvilBrother\n",
      "Louiethefly\n",
      "JamesColesPardon\n",
      "Brobacca\n",
      "BarleyHopsWater\n",
      "Werpogil\n",
      "Werpogil\n",
      "cuteman\n",
      "SultanObama\n",
      "nounhud\n",
      "AnSeTe\n",
      "S4mmyK\n",
      "feedthebear\n",
      "IanalystI\n",
      "bafta\n",
      "Werpogil\n",
      "S4mmyK\n",
      "Sub Author:  Alternate_Fascism\n",
      "CyberIndustrialist\n",
      "Sub Author:  thenewyorkgod\n",
      "NotoriousNastyBig--D\n",
      "jplevene\n",
      "Everright\n",
      "NaturallyWired\n",
      "axilmar\n",
      "sydneybeachbum\n",
      "Captain_Tardigrade\n",
      "L0NESHARK\n",
      "Wo_shi_jia_na_da_ren\n",
      "fkdsla\n",
      "chewbacca81\n",
      "Alternatehands\n",
      "myrightwingfriend\n",
      "Zonetr00per\n",
      "snobocracy\n",
      "Captain_Tardigrade\n",
      "aMutantChicken\n",
      "nlx0n\n",
      "absurdadam1\n",
      "cruciblenein\n",
      "jplevene\n",
      "tuna_HP\n",
      "TopFIlter\n",
      "palxma\n",
      "RufusTheFirefly\n",
      "Iornukrum\n",
      "The_1st_Doctor\n",
      "NotoriousNastyBig--D\n",
      "FreudJesusGod\n",
      "ArmybutFemme\n",
      "11question11\n",
      "devilsavocat\n",
      "ApeWearingClothes\n",
      "AnAntichrist\n",
      "thedanabides\n",
      "briskt\n",
      "NotoriousNastyBig--D\n",
      "HiHoJufro\n",
      "HiHoJufro\n",
      "voldemortdrake\n",
      "RufusTheFirefly\n",
      "phoenixjet\n",
      "Zomaarwat\n",
      "Iornukrum\n",
      "theyellowwarbler\n",
      "MAGA_LEVEL_OVER_9000\n",
      "BW_Bird\n",
      "whatisslashS\n",
      "snobocracy\n",
      "Vengeful111\n",
      "jplevene\n",
      "The_1st_Doctor\n",
      "palxma\n",
      "sambull\n",
      "palxma\n",
      "jplevene\n",
      "NaturallyWired\n",
      "absurdadam1\n",
      "NaturallyWired\n",
      "thedanabides\n",
      "MetaParser\n",
      "NaturallyWired\n",
      "palxma\n",
      "palxma\n",
      "nmagod\n",
      "Alternatehands\n",
      "HiHoJufro\n",
      "nlx0n\n",
      "Zonetr00per\n",
      "daveboy2000\n",
      "Chuck419\n",
      "Captain_Tardigrade\n",
      "IamAcuntAndIknowIt\n",
      "STiLL_bOoZiN\n",
      "Mlatteri\n",
      "CommunistTurdWaffles\n",
      "Hunterrose242\n",
      "BigfootSF68\n",
      "at_work_22\n",
      "xxdeetsxx\n",
      "palxma\n",
      "jplevene\n",
      "jplevene\n",
      "jplevene\n",
      "Willie5000\n",
      "alex-the-terrible\n",
      "daveboy2000\n",
      "y2jeff\n",
      "mrMalloc\n",
      "ApeWearingClothes\n",
      "ApeWearingClothes\n",
      "zeshtorm\n",
      "NotoriousNastyBig--D\n",
      "akolada\n",
      "Zomaarwat\n",
      "Iornukrum\n",
      "dodge_thiss\n",
      "ANP06\n",
      "AmIBeingInstained\n",
      "palxma\n",
      "rookie-mistake\n",
      "DrStalker\n",
      "cruciblenein\n",
      "Vengeful111\n",
      "palxma\n",
      "KanadainKanada\n",
      "InconspiciousMonkey\n",
      "palxma\n",
      "palxma\n",
      "absurdadam1\n",
      "DrStalker\n",
      "thedanabides\n",
      "thedanabides\n",
      "MetaParser\n",
      "MetaParser\n",
      "NaturallyWired\n",
      "Captain_Tardigrade\n",
      "Alternatehands\n",
      "palxma\n",
      "A-Blanche\n",
      "daveboy2000\n",
      "Oxman1234\n",
      "daveboy2000\n",
      "Chuck419\n",
      "STiLL_bOoZiN\n",
      "at_work_22\n",
      "xxdeetsxx\n",
      "ArmybutFemme\n",
      "TheBaldWonder\n",
      "y2jeff\n",
      "ApeWearingClothes\n",
      "ApeWearingClothes\n",
      "ApeWearingClothes\n",
      "ApeWearingClothes\n",
      "zeshtorm\n",
      "Anonymonynonymous\n",
      "jplevene\n",
      "thedanabides\n",
      "thedanabides\n",
      "MetaParser\n",
      "MetaParser\n",
      "MetaParser\n",
      "NaturallyWired\n",
      "Oxman1234\n",
      "Chuck419\n",
      "ApeWearingClothes\n",
      "ApeWearingClothes\n",
      "ApeWearingClothes\n",
      "thedanabides\n",
      "AcidJiles\n",
      "MetaParser\n",
      "MetaParser\n",
      "MetaParser\n",
      "MetaParser\n",
      "Oxman1234\n",
      "ApeWearingClothes\n",
      "Sub Author:  Vicious43\n",
      "expendable_Henchman\n",
      "Vicious43\n",
      "Sub Author:  finixz\n",
      "autotldr\n",
      "12wd\n",
      "malwayslooking\n"
     ]
    }
   ],
   "source": [
    "for submission in submissions:\n",
    "    print (\"Sub Author: \", submission.author.name)\n",
    "    submission.comments.replace_more(limit=0)\n",
    "    for comment in submission.comments.list():\n",
    "        if comment.author != None:\n",
    "            print(comment.author.name)"
   ]
  },
  {
   "cell_type": "code",
   "execution_count": null,
   "metadata": {
    "collapsed": true
   },
   "outputs": [],
   "source": []
  }
 ],
 "metadata": {
  "kernelspec": {
   "display_name": "Python 3",
   "language": "python",
   "name": "python3"
  },
  "language_info": {
   "codemirror_mode": {
    "name": "ipython",
    "version": 3
   },
   "file_extension": ".py",
   "mimetype": "text/x-python",
   "name": "python",
   "nbconvert_exporter": "python",
   "pygments_lexer": "ipython3",
   "version": "3.5.2"
  }
 },
 "nbformat": 4,
 "nbformat_minor": 2
}
