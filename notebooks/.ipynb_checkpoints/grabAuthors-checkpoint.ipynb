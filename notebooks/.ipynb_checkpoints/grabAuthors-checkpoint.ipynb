{
 "cells": [
  {
   "cell_type": "code",
   "execution_count": 2,
   "metadata": {
    "collapsed": true
   },
   "outputs": [],
   "source": [
    "import praw\n",
    "import time\n",
    "import datetime"
   ]
  },
  {
   "cell_type": "code",
   "execution_count": 3,
   "metadata": {
    "collapsed": true
   },
   "outputs": [],
   "source": [
    "reddit = praw.Reddit(client_id='qJwY2ZzRahm-GQ',\n",
    "                     client_secret='lkZjzt2g6MutrTm3D7c7hNl5R6w',\n",
    "                     user_agent='linux:reddit-analysis:v1.0.0 (by /u/DigitalArcheology)',\n",
    "                     username='DigitalArcheology',\n",
    "                     password='GOvols!2017')"
   ]
  },
  {
   "cell_type": "code",
   "execution_count": 4,
   "metadata": {
    "collapsed": true
   },
   "outputs": [],
   "source": [
    "sub = reddit.subreddit('worldnews')"
   ]
  },
  {
   "cell_type": "code",
   "execution_count": 5,
   "metadata": {
    "collapsed": true
   },
   "outputs": [],
   "source": [
    "timestamp_01Jan = time.mktime(datetime.date(2017, 1, 1).timetuple())\n",
    "timestemp_31Jan = time.mktime(datetime.date(2017, 1, 31).timetuple())"
   ]
  },
  {
   "cell_type": "code",
   "execution_count": 6,
   "metadata": {
    "collapsed": true
   },
   "outputs": [],
   "source": [
    "submissions=[]\n",
    "\n",
    "\n",
    "for submission in sub.submissions(start=timestamp_01Jan, end=timestemp_31Jan):\n",
    "    if len(submissions) < 5:\n",
    "        submissions.append(submission)\n",
    "    else:\n",
    "        break\n",
    "    "
   ]
  },
  {
   "cell_type": "code",
   "execution_count": 7,
   "metadata": {},
   "outputs": [
    {
     "data": {
      "text/plain": [
       "5"
      ]
     },
     "execution_count": 7,
     "metadata": {},
     "output_type": "execute_result"
    }
   ],
   "source": [
    "len(submissions)"
   ]
  },
  {
   "cell_type": "code",
   "execution_count": 8,
   "metadata": {},
   "outputs": [
    {
     "name": "stdout",
     "output_type": "stream",
     "text": [
      "40\n",
      "1\n",
      "214\n",
      "4\n",
      "4\n"
     ]
    }
   ],
   "source": [
    "for submission in submissions:\n",
    "    print (submission.num_comments)"
   ]
  },
  {
   "cell_type": "code",
   "execution_count": 9,
   "metadata": {
    "collapsed": true,
    "scrolled": false
   },
   "outputs": [],
   "source": [
    "authors = []\n",
    "with open(\"file\",\"w\") as f:\n",
    "    for submission in submissions:\n",
    "        authors.append(str(submission.id) + ',' + \"submission\" + ',' + str(submission.author.name) + ',' + str(sub))\n",
    "        #print (\"Sub Author: \", submission.author.name)\n",
    "        submission.comments.replace_more(limit=0)\n",
    "        for comment in submission.comments.list():\n",
    "            if comment.author != None:\n",
    "                #print(comment.author.name)\n",
    "                authors.append(str(submission.id) + ',' + \"comment\" + ',' + str(comment.author.name) + ',' + str(sub))"
   ]
  },
  {
   "cell_type": "code",
   "execution_count": 10,
   "metadata": {},
   "outputs": [
    {
     "name": "stdout",
     "output_type": "stream",
     "text": [
      "['5r4lau,submission,JamesColesPardon,worldnews', '5r4lau,comment,spacelordmofo,worldnews', '5r4lau,comment,Werpogil,worldnews', '5r4lau,comment,powerroots99,worldnews', '5r4lau,comment,im-the-stig,worldnews', '5r4lau,comment,7331osuraC,worldnews', '5r4lau,comment,an_internet_denizen,worldnews', '5r4lau,comment,crea7or,worldnews', '5r4lau,comment,chillpill69,worldnews', '5r4lau,comment,Tobeck,worldnews', '5r4lau,comment,5yearsinthefuture,worldnews', '5r4lau,comment,BobCox,worldnews', '5r4lau,comment,courey,worldnews', '5r4lau,comment,Reali5t,worldnews', '5r4lau,comment,frisktoad,worldnews', '5r4lau,comment,cuteman,worldnews', '5r4lau,comment,greenday5494,worldnews', '5r4lau,comment,frisktoad,worldnews', '5r4lau,comment,Navi_Here,worldnews', '5r4lau,comment,the6crimson6fucker6,worldnews', '5r4lau,comment,MetaParser,worldnews', '5r4lau,comment,IanalystI,worldnews', '5r4lau,comment,nounhud,worldnews', '5r4lau,comment,LeiFengsEvilBrother,worldnews', '5r4lau,comment,Louiethefly,worldnews', '5r4lau,comment,JamesColesPardon,worldnews', '5r4lau,comment,Brobacca,worldnews', '5r4lau,comment,BarleyHopsWater,worldnews', '5r4lau,comment,Werpogil,worldnews', '5r4lau,comment,Werpogil,worldnews', '5r4lau,comment,cuteman,worldnews', '5r4lau,comment,SultanObama,worldnews', '5r4lau,comment,nounhud,worldnews', '5r4lau,comment,AnSeTe,worldnews', '5r4lau,comment,S4mmyK,worldnews', '5r4lau,comment,feedthebear,worldnews', '5r4lau,comment,IanalystI,worldnews', '5r4lau,comment,bafta,worldnews', '5r4lau,comment,Werpogil,worldnews', '5r4lau,comment,S4mmyK,worldnews', '5r4l46,submission,Alternate_Fascism,worldnews', '5r4l46,comment,CyberIndustrialist,worldnews', '5r4jc5,submission,thenewyorkgod,worldnews', '5r4jc5,comment,NotoriousNastyBig--D,worldnews', '5r4jc5,comment,jplevene,worldnews', '5r4jc5,comment,Everright,worldnews', '5r4jc5,comment,NaturallyWired,worldnews', '5r4jc5,comment,axilmar,worldnews', '5r4jc5,comment,sydneybeachbum,worldnews', '5r4jc5,comment,Captain_Tardigrade,worldnews', '5r4jc5,comment,L0NESHARK,worldnews', '5r4jc5,comment,Wo_shi_jia_na_da_ren,worldnews', '5r4jc5,comment,fkdsla,worldnews', '5r4jc5,comment,chewbacca81,worldnews', '5r4jc5,comment,Alternatehands,worldnews', '5r4jc5,comment,myrightwingfriend,worldnews', '5r4jc5,comment,Zonetr00per,worldnews', '5r4jc5,comment,snobocracy,worldnews', '5r4jc5,comment,Captain_Tardigrade,worldnews', '5r4jc5,comment,aMutantChicken,worldnews', '5r4jc5,comment,nlx0n,worldnews', '5r4jc5,comment,absurdadam1,worldnews', '5r4jc5,comment,cruciblenein,worldnews', '5r4jc5,comment,jplevene,worldnews', '5r4jc5,comment,tuna_HP,worldnews', '5r4jc5,comment,TopFIlter,worldnews', '5r4jc5,comment,palxma,worldnews', '5r4jc5,comment,RufusTheFirefly,worldnews', '5r4jc5,comment,Iornukrum,worldnews', '5r4jc5,comment,The_1st_Doctor,worldnews', '5r4jc5,comment,NotoriousNastyBig--D,worldnews', '5r4jc5,comment,FreudJesusGod,worldnews', '5r4jc5,comment,ArmybutFemme,worldnews', '5r4jc5,comment,11question11,worldnews', '5r4jc5,comment,devilsavocat,worldnews', '5r4jc5,comment,ApeWearingClothes,worldnews', '5r4jc5,comment,AnAntichrist,worldnews', '5r4jc5,comment,thedanabides,worldnews', '5r4jc5,comment,briskt,worldnews', '5r4jc5,comment,NotoriousNastyBig--D,worldnews', '5r4jc5,comment,HiHoJufro,worldnews', '5r4jc5,comment,HiHoJufro,worldnews', '5r4jc5,comment,voldemortdrake,worldnews', '5r4jc5,comment,RufusTheFirefly,worldnews', '5r4jc5,comment,phoenixjet,worldnews', '5r4jc5,comment,Zomaarwat,worldnews', '5r4jc5,comment,Iornukrum,worldnews', '5r4jc5,comment,theyellowwarbler,worldnews', '5r4jc5,comment,MAGA_LEVEL_OVER_9000,worldnews', '5r4jc5,comment,BW_Bird,worldnews', '5r4jc5,comment,whatisslashS,worldnews', '5r4jc5,comment,snobocracy,worldnews', '5r4jc5,comment,Vengeful111,worldnews', '5r4jc5,comment,jplevene,worldnews', '5r4jc5,comment,The_1st_Doctor,worldnews', '5r4jc5,comment,palxma,worldnews', '5r4jc5,comment,sambull,worldnews', '5r4jc5,comment,palxma,worldnews', '5r4jc5,comment,jplevene,worldnews', '5r4jc5,comment,NaturallyWired,worldnews', '5r4jc5,comment,absurdadam1,worldnews', '5r4jc5,comment,NaturallyWired,worldnews', '5r4jc5,comment,thedanabides,worldnews', '5r4jc5,comment,MetaParser,worldnews', '5r4jc5,comment,NaturallyWired,worldnews', '5r4jc5,comment,palxma,worldnews', '5r4jc5,comment,palxma,worldnews', '5r4jc5,comment,nmagod,worldnews', '5r4jc5,comment,Alternatehands,worldnews', '5r4jc5,comment,HiHoJufro,worldnews', '5r4jc5,comment,nlx0n,worldnews', '5r4jc5,comment,Zonetr00per,worldnews', '5r4jc5,comment,daveboy2000,worldnews', '5r4jc5,comment,Chuck419,worldnews', '5r4jc5,comment,Captain_Tardigrade,worldnews', '5r4jc5,comment,IamAcuntAndIknowIt,worldnews', '5r4jc5,comment,STiLL_bOoZiN,worldnews', '5r4jc5,comment,Mlatteri,worldnews', '5r4jc5,comment,CommunistTurdWaffles,worldnews', '5r4jc5,comment,Hunterrose242,worldnews', '5r4jc5,comment,BigfootSF68,worldnews', '5r4jc5,comment,at_work_22,worldnews', '5r4jc5,comment,xxdeetsxx,worldnews', '5r4jc5,comment,palxma,worldnews', '5r4jc5,comment,jplevene,worldnews', '5r4jc5,comment,jplevene,worldnews', '5r4jc5,comment,jplevene,worldnews', '5r4jc5,comment,Willie5000,worldnews', '5r4jc5,comment,alex-the-terrible,worldnews', '5r4jc5,comment,daveboy2000,worldnews', '5r4jc5,comment,y2jeff,worldnews', '5r4jc5,comment,mrMalloc,worldnews', '5r4jc5,comment,ApeWearingClothes,worldnews', '5r4jc5,comment,ApeWearingClothes,worldnews', '5r4jc5,comment,zeshtorm,worldnews', '5r4jc5,comment,NotoriousNastyBig--D,worldnews', '5r4jc5,comment,akolada,worldnews', '5r4jc5,comment,Zomaarwat,worldnews', '5r4jc5,comment,Iornukrum,worldnews', '5r4jc5,comment,dodge_thiss,worldnews', '5r4jc5,comment,ANP06,worldnews', '5r4jc5,comment,AmIBeingInstained,worldnews', '5r4jc5,comment,palxma,worldnews', '5r4jc5,comment,rookie-mistake,worldnews', '5r4jc5,comment,DrStalker,worldnews', '5r4jc5,comment,cruciblenein,worldnews', '5r4jc5,comment,Vengeful111,worldnews', '5r4jc5,comment,palxma,worldnews', '5r4jc5,comment,KanadainKanada,worldnews', '5r4jc5,comment,InconspiciousMonkey,worldnews', '5r4jc5,comment,palxma,worldnews', '5r4jc5,comment,palxma,worldnews', '5r4jc5,comment,absurdadam1,worldnews', '5r4jc5,comment,DrStalker,worldnews', '5r4jc5,comment,thedanabides,worldnews', '5r4jc5,comment,thedanabides,worldnews', '5r4jc5,comment,MetaParser,worldnews', '5r4jc5,comment,MetaParser,worldnews', '5r4jc5,comment,NaturallyWired,worldnews', '5r4jc5,comment,Captain_Tardigrade,worldnews', '5r4jc5,comment,Alternatehands,worldnews', '5r4jc5,comment,palxma,worldnews', '5r4jc5,comment,A-Blanche,worldnews', '5r4jc5,comment,daveboy2000,worldnews', '5r4jc5,comment,Oxman1234,worldnews', '5r4jc5,comment,daveboy2000,worldnews', '5r4jc5,comment,Chuck419,worldnews', '5r4jc5,comment,STiLL_bOoZiN,worldnews', '5r4jc5,comment,at_work_22,worldnews', '5r4jc5,comment,xxdeetsxx,worldnews', '5r4jc5,comment,ArmybutFemme,worldnews', '5r4jc5,comment,TheBaldWonder,worldnews', '5r4jc5,comment,y2jeff,worldnews', '5r4jc5,comment,ApeWearingClothes,worldnews', '5r4jc5,comment,ApeWearingClothes,worldnews', '5r4jc5,comment,ApeWearingClothes,worldnews', '5r4jc5,comment,ApeWearingClothes,worldnews', '5r4jc5,comment,zeshtorm,worldnews', '5r4jc5,comment,Anonymonynonymous,worldnews', '5r4jc5,comment,jplevene,worldnews', '5r4jc5,comment,thedanabides,worldnews', '5r4jc5,comment,thedanabides,worldnews', '5r4jc5,comment,MetaParser,worldnews', '5r4jc5,comment,MetaParser,worldnews', '5r4jc5,comment,MetaParser,worldnews', '5r4jc5,comment,NaturallyWired,worldnews', '5r4jc5,comment,Oxman1234,worldnews', '5r4jc5,comment,Chuck419,worldnews', '5r4jc5,comment,ApeWearingClothes,worldnews', '5r4jc5,comment,ApeWearingClothes,worldnews', '5r4jc5,comment,ApeWearingClothes,worldnews', '5r4jc5,comment,thedanabides,worldnews', '5r4jc5,comment,AcidJiles,worldnews', '5r4jc5,comment,MetaParser,worldnews', '5r4jc5,comment,MetaParser,worldnews', '5r4jc5,comment,MetaParser,worldnews', '5r4jc5,comment,MetaParser,worldnews', '5r4jc5,comment,Oxman1234,worldnews', '5r4jc5,comment,ApeWearingClothes,worldnews', '5r4iv2,submission,Vicious43,worldnews', '5r4iv2,comment,expendable_Henchman,worldnews', '5r4iv2,comment,Vicious43,worldnews', '5r4hk3,submission,finixz,worldnews', '5r4hk3,comment,autotldr,worldnews', '5r4hk3,comment,12wd,worldnews', '5r4hk3,comment,malwayslooking,worldnews']\n"
     ]
    }
   ],
   "source": [
    "print(authors)"
   ]
  },
  {
   "cell_type": "code",
   "execution_count": null,
   "metadata": {
    "collapsed": true
   },
   "outputs": [],
   "source": []
  }
 ],
 "metadata": {
  "kernelspec": {
   "display_name": "Python 3",
   "language": "python",
   "name": "python3"
  },
  "language_info": {
   "codemirror_mode": {
    "name": "ipython",
    "version": 3
   },
   "file_extension": ".py",
   "mimetype": "text/x-python",
   "name": "python",
   "nbconvert_exporter": "python",
   "pygments_lexer": "ipython3",
   "version": "3.5.2"
  }
 },
 "nbformat": 4,
 "nbformat_minor": 2
}
