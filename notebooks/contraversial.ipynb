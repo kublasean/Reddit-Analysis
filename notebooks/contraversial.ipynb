{
 "cells": [
  {
   "cell_type": "code",
   "execution_count": 1,
   "metadata": {},
   "outputs": [],
   "source": [
    "import praw"
   ]
  },
  {
   "cell_type": "code",
   "execution_count": 2,
   "metadata": {},
   "outputs": [],
   "source": [
    "import pickle"
   ]
  },
  {
   "cell_type": "code",
   "execution_count": 9,
   "metadata": {},
   "outputs": [],
   "source": [
    "import time\n",
    "import datetime\n",
    "from calendar import monthrange\n"
   ]
  },
  {
   "cell_type": "code",
   "execution_count": 4,
   "metadata": {},
   "outputs": [],
   "source": [
    "import numpy as np"
   ]
  },
  {
   "cell_type": "code",
   "execution_count": 5,
   "metadata": {},
   "outputs": [],
   "source": [
    "reddit = praw.Reddit(client_id='qJwY2ZzRahm-GQ',\n",
    "                     client_secret='lkZjzt2g6MutrTm3D7c7hNl5R6w',\n",
    "                     user_agent='linux:reddit-analysis:v1.0.0 (by /u/DigitalArcheology)',\n",
    "                     username='DigitalArcheology',\n",
    "                     password='GOvols!2017')"
   ]
  },
  {
   "cell_type": "code",
   "execution_count": 6,
   "metadata": {},
   "outputs": [],
   "source": [
    "sub = reddit.subreddit('worldnews')"
   ]
  },
  {
   "cell_type": "code",
   "execution_count": 7,
   "metadata": {},
   "outputs": [],
   "source": [
    "startYear, startMonth = 2017, 1\n",
    "stopYear, stopMonth = 2017, 1"
   ]
  },
  {
   "cell_type": "code",
   "execution_count": 11,
   "metadata": {},
   "outputs": [
    {
     "name": "stdout",
     "output_type": "stream",
     "text": [
      "Start: 1483228800.0\n",
      "Stop: 1485907199.0\n"
     ]
    }
   ],
   "source": [
    "timestamp_Start = time.mktime(datetime.datetime(startYear, startMonth, 1, 0, 0, 0).timetuple())\n",
    "timestamp_Stop = time.mktime(datetime.datetime(stopYear, stopMonth, monthrange(stopYear, stopMonth)[1], 23, 59, 59, 99).timetuple())\n",
    "print('Start:', timestamp_Start)\n",
    "print('Stop:', timestamp_Stop)"
   ]
  },
  {
   "cell_type": "code",
   "execution_count": 20,
   "metadata": {},
   "outputs": [],
   "source": [
    "def load_dates(path):\n",
    "    dates_D = {}\n",
    "    with open(path, 'r', newline='\\n') as f:\n",
    "        for line in f:\n",
    "            reddit_id, field = line.strip().split('\\t', maxsplit=1)\n",
    "            dates_D[reddit_id] = field\n",
    "    return dates_D\n",
    "\n",
    "def load_data(path, dates_D):\n",
    "    reddit_ids = []\n",
    "    data = []\n",
    "    with open(path, 'r', newline='\\n') as f:\n",
    "        for line in f:\n",
    "            reddit_id, comments = line.split('\\t', maxsplit=1)\n",
    "            if reddit_id in dates_D.keys():\n",
    "                data.append(comments)\n",
    "                reddit_ids.append(reddit_id)\n",
    "    return reddit_ids, data"
   ]
  },
  {
   "cell_type": "code",
   "execution_count": 26,
   "metadata": {},
   "outputs": [],
   "source": [
    "dates_D = load_dates('../data/worldnews_2017_1-2017_1_submissiondates.txt')\n",
    "reddit_ids, data = load_data('../data/worldnews_2017_1-2017_1_flatcomments.txt', dates_D)"
   ]
  },
  {
   "cell_type": "code",
   "execution_count": 27,
   "metadata": {},
   "outputs": [
    {
     "data": {
      "text/plain": [
       "623"
      ]
     },
     "execution_count": 27,
     "metadata": {},
     "output_type": "execute_result"
    }
   ],
   "source": [
    "len(reddit_ids)"
   ]
  },
  {
   "cell_type": "code",
   "execution_count": 29,
   "metadata": {},
   "outputs": [],
   "source": [
    "sub.controversial?"
   ]
  },
  {
   "cell_type": "code",
   "execution_count": 31,
   "metadata": {},
   "outputs": [
    {
     "name": "stdout",
     "output_type": "stream",
     "text": [
      "0 7bd444\n",
      "1 7duovf\n",
      "2 78m1l4\n",
      "3 7c5h47\n",
      "4 7ax0fp\n",
      "5 7aj2bc\n",
      "6 77nysb\n",
      "7 7bqxtj\n",
      "8 7a2ob2\n",
      "9 7bkag8\n"
     ]
    }
   ],
   "source": [
    "for i, id_ in enumerate(sub.controversial('month')):\n",
    "    if i < 10:\n",
    "        print(i, id_)"
   ]
  },
  {
   "cell_type": "code",
   "execution_count": 27,
   "metadata": {},
   "outputs": [
    {
     "name": "stdout",
     "output_type": "stream",
     "text": [
      "789tgq\n"
     ]
    }
   ],
   "source": [
    "print(id_)"
   ]
  },
  {
   "cell_type": "code",
   "execution_count": null,
   "metadata": {},
   "outputs": [],
   "source": [
    "for submission in sub.submissions(start=timestamp_Start, end=timestamp_Stop):"
   ]
  },
  {
   "cell_type": "code",
   "execution_count": null,
   "metadata": {},
   "outputs": [],
   "source": []
  },
  {
   "cell_type": "code",
   "execution_count": null,
   "metadata": {},
   "outputs": [],
   "source": []
  },
  {
   "cell_type": "code",
   "execution_count": null,
   "metadata": {},
   "outputs": [],
   "source": []
  },
  {
   "cell_type": "code",
   "execution_count": null,
   "metadata": {},
   "outputs": [],
   "source": []
  },
  {
   "cell_type": "code",
   "execution_count": null,
   "metadata": {},
   "outputs": [],
   "source": []
  },
  {
   "cell_type": "code",
   "execution_count": null,
   "metadata": {},
   "outputs": [],
   "source": []
  },
  {
   "cell_type": "code",
   "execution_count": null,
   "metadata": {},
   "outputs": [],
   "source": []
  },
  {
   "cell_type": "code",
   "execution_count": null,
   "metadata": {},
   "outputs": [],
   "source": []
  }
 ],
 "metadata": {
  "kernelspec": {
   "display_name": "Python 3",
   "language": "python",
   "name": "python3"
  },
  "language_info": {
   "codemirror_mode": {
    "name": "ipython",
    "version": 3
   },
   "file_extension": ".py",
   "mimetype": "text/x-python",
   "name": "python",
   "nbconvert_exporter": "python",
   "pygments_lexer": "ipython3",
   "version": "3.5.2"
  }
 },
 "nbformat": 4,
 "nbformat_minor": 2
}
