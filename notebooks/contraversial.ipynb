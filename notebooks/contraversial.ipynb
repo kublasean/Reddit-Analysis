{
 "cells": [
  {
   "cell_type": "code",
   "execution_count": 3,
   "metadata": {},
   "outputs": [],
   "source": [
    "import praw"
   ]
  },
  {
   "cell_type": "code",
   "execution_count": 4,
   "metadata": {
    "collapsed": true
   },
   "outputs": [],
   "source": [
    "import pickle"
   ]
  },
  {
   "cell_type": "code",
   "execution_count": 5,
   "metadata": {
    "collapsed": true
   },
   "outputs": [],
   "source": [
    "import time\n",
    "import datetime\n",
    "from calendar import monthrange\n"
   ]
  },
  {
   "cell_type": "code",
   "execution_count": 28,
   "metadata": {
    "collapsed": true
   },
   "outputs": [],
   "source": [
    "import numpy as np\n",
    "import pandas as pd"
   ]
  },
  {
   "cell_type": "code",
   "execution_count": 7,
   "metadata": {
    "collapsed": true
   },
   "outputs": [],
   "source": [
    "reddit = praw.Reddit(client_id='qJwY2ZzRahm-GQ',\n",
    "                     client_secret='lkZjzt2g6MutrTm3D7c7hNl5R6w',\n",
    "                     user_agent='linux:reddit-analysis:v1.0.0 (by /u/DigitalArcheology)',\n",
    "                     username='DigitalArcheology',\n",
    "                     password='GOvols!2017')"
   ]
  },
  {
   "cell_type": "code",
   "execution_count": 8,
   "metadata": {
    "collapsed": true
   },
   "outputs": [],
   "source": [
    "sub = reddit.subreddit('worldnews')"
   ]
  },
  {
   "cell_type": "code",
   "execution_count": 11,
   "metadata": {
    "collapsed": true
   },
   "outputs": [],
   "source": [
    "def load_dates(path):\n",
    "    dates_D = {}\n",
    "    with open(path, 'r', newline='\\n') as f:\n",
    "        for line in f:\n",
    "            reddit_id, field = line.strip().split('\\t', maxsplit=1)\n",
    "            dates_D[reddit_id] = field\n",
    "    return dates_D\n",
    "\n",
    "def load_data(path, dates_D):\n",
    "    reddit_ids = []\n",
    "    data = []\n",
    "    with open(path, 'r', newline='\\n') as f:\n",
    "        for line in f:\n",
    "            reddit_id, comments = line.split('\\t', maxsplit=1)\n",
    "            if reddit_id in dates_D.keys():\n",
    "                data.append(comments)\n",
    "                reddit_ids.append(reddit_id)\n",
    "    return reddit_ids, data"
   ]
  },
  {
   "cell_type": "code",
   "execution_count": 16,
   "metadata": {},
   "outputs": [],
   "source": [
    "dates_D = load_dates('../data/worldnews_2016_10-2017_9_submissiondates.txt')\n",
    "#reddit_ids, data = load_data('../data/worldnews_2017_1-2017_1_flatcomments.txt', dates_D)"
   ]
  },
  {
   "cell_type": "code",
   "execution_count": 17,
   "metadata": {},
   "outputs": [
    {
     "data": {
      "text/plain": [
       "9242"
      ]
     },
     "execution_count": 17,
     "metadata": {},
     "output_type": "execute_result"
    }
   ],
   "source": [
    "len(dates_D)"
   ]
  },
  {
   "cell_type": "code",
   "execution_count": 55,
   "metadata": {},
   "outputs": [],
   "source": [
    "timestamp_1Oct2016 = time.mktime(datetime.datetime(2016, 10, 1, 0, 0, 0).timetuple())\n",
    "timestemp_30Sept2017 = time.mktime(datetime.datetime(2017, 9, 30, 23, 59, 59, 99).timetuple())"
   ]
  },
  {
   "cell_type": "code",
   "execution_count": 56,
   "metadata": {},
   "outputs": [],
   "source": [
    "with open('../data/worldnews_2016_10-2017_9_contraversial_per_year.txt', 'w') as out:\n",
    "    for i, submission in enumerate(sub.controversial('year', limit=None)):\n",
    "        if (submission.num_comments > 100) and (timestamp_1Oct2016 <= submission.created <= timestemp_30Sept2017):\n",
    "            out.write('%s\\t%i\\n'%(submission, i))"
   ]
  },
  {
   "cell_type": "code",
   "execution_count": null,
   "metadata": {
    "collapsed": true
   },
   "outputs": [],
   "source": []
  },
  {
   "cell_type": "code",
   "execution_count": 57,
   "metadata": {},
   "outputs": [
    {
     "data": {
      "text/html": [
       "<div>\n",
       "<style>\n",
       "    .dataframe thead tr:only-child th {\n",
       "        text-align: right;\n",
       "    }\n",
       "\n",
       "    .dataframe thead th {\n",
       "        text-align: left;\n",
       "    }\n",
       "\n",
       "    .dataframe tbody tr th {\n",
       "        vertical-align: top;\n",
       "    }\n",
       "</style>\n",
       "<table border=\"1\" class=\"dataframe\">\n",
       "  <thead>\n",
       "    <tr style=\"text-align: right;\">\n",
       "      <th></th>\n",
       "      <th>rank</th>\n",
       "    </tr>\n",
       "    <tr>\n",
       "      <th>reddit_id</th>\n",
       "      <th></th>\n",
       "    </tr>\n",
       "  </thead>\n",
       "  <tbody>\n",
       "    <tr>\n",
       "      <th>65k4c1</th>\n",
       "      <td>0</td>\n",
       "    </tr>\n",
       "    <tr>\n",
       "      <th>5kcjyi</th>\n",
       "      <td>2</td>\n",
       "    </tr>\n",
       "    <tr>\n",
       "      <th>6xaexh</th>\n",
       "      <td>7</td>\n",
       "    </tr>\n",
       "    <tr>\n",
       "      <th>5q6aeb</th>\n",
       "      <td>12</td>\n",
       "    </tr>\n",
       "    <tr>\n",
       "      <th>5zx9ye</th>\n",
       "      <td>13</td>\n",
       "    </tr>\n",
       "  </tbody>\n",
       "</table>\n",
       "</div>"
      ],
      "text/plain": [
       "           rank\n",
       "reddit_id      \n",
       "65k4c1        0\n",
       "5kcjyi        2\n",
       "6xaexh        7\n",
       "5q6aeb       12\n",
       "5zx9ye       13"
      ]
     },
     "execution_count": 57,
     "metadata": {},
     "output_type": "execute_result"
    }
   ],
   "source": [
    "df = pd.read_csv('../data/worldnews_2016_10-2017_9_contraversial_per_year.txt', sep='\\t', header=None, names=['reddit_id', 'rank'], index_col=0); df.head()"
   ]
  },
  {
   "cell_type": "code",
   "execution_count": 58,
   "metadata": {},
   "outputs": [],
   "source": [
    "df['Date']  = None"
   ]
  },
  {
   "cell_type": "code",
   "execution_count": 59,
   "metadata": {},
   "outputs": [],
   "source": [
    "for id_ in df.index:\n",
    "    df.loc[id_, 'Date'] = dates_D[id_]"
   ]
  },
  {
   "cell_type": "code",
   "execution_count": 60,
   "metadata": {
    "collapsed": true
   },
   "outputs": [],
   "source": [
    "f = lambda x: pd.Series([int(i) for i in x.split('-')])\n",
    "rev = df['Date'].apply(f)\n",
    "rev.rename(columns={0:'Year',1:'Month',2:'Day'},inplace=True)"
   ]
  },
  {
   "cell_type": "code",
   "execution_count": 61,
   "metadata": {
    "collapsed": true
   },
   "outputs": [],
   "source": [
    "df = df.join(rev)"
   ]
  },
  {
   "cell_type": "code",
   "execution_count": 62,
   "metadata": {
    "collapsed": true
   },
   "outputs": [],
   "source": [
    "groups = df.groupby(by=['Year', 'Month'])"
   ]
  },
  {
   "cell_type": "code",
   "execution_count": 66,
   "metadata": {},
   "outputs": [
    {
     "name": "stdout",
     "output_type": "stream",
     "text": [
      "           rank        Date  Year  Month  Day\n",
      "reddit_id                                    \n",
      "5kcjyi        2  2016-12-26  2016     12   26\n",
      "5kimkt      111  2016-12-27  2016     12   27\n",
      "5l0ibu      170  2016-12-30  2016     12   30\n",
      "           rank        Date  Year  Month  Day\n",
      "reddit_id                                    \n",
      "5q6aeb       12  2017-01-25  2017      1   25\n",
      "5osrs7       22  2017-01-18  2017      1   18\n",
      "5mjvrk       33  2017-01-07  2017      1    7\n",
      "5mk7q6       44  2017-01-07  2017      1    7\n",
      "5p52gx       70  2017-01-20  2017      1   20\n",
      "5mahkn      100  2017-01-06  2017      1    6\n",
      "5mfjbi      102  2017-01-06  2017      1    6\n",
      "5ljpnr      145  2017-01-02  2017      1    2\n",
      "5n4k19      241  2017-01-10  2017      1   10\n",
      "5m1bwa      338  2017-01-04  2017      1    4\n",
      "5nxdbg      649  2017-01-14  2017      1   14\n",
      "           rank        Date  Year  Month  Day\n",
      "reddit_id                                    \n",
      "5skt5b       83  2017-02-07  2017      2    7\n",
      "5tplbe      456  2017-02-13  2017      2   13\n",
      "5vie5y      691  2017-02-22  2017      2   22\n",
      "5vajr4      722  2017-02-21  2017      2   21\n",
      "5urtue      771  2017-02-18  2017      2   18\n",
      "           rank        Date  Year  Month  Day\n",
      "reddit_id                                    \n",
      "5zx9ye       13  2017-03-17  2017      3   17\n",
      "60ptz2      164  2017-03-21  2017      3   21\n",
      "62lpck      231  2017-03-31  2017      3   31\n",
      "5yjoe9      635  2017-03-10  2017      3   10\n",
      "6077tr      696  2017-03-18  2017      3   18\n",
      "5z4w00      755  2017-03-13  2017      3   13\n",
      "60x84a      867  2017-03-22  2017      3   22\n",
      "           rank        Date  Year  Month  Day\n",
      "reddit_id                                    \n",
      "65k4c1        0  2017-04-15  2017      4   15\n",
      "668q6w       24  2017-04-19  2017      4   19\n",
      "65or6q      140  2017-04-16  2017      4   16\n",
      "67347o      149  2017-04-23  2017      4   23\n",
      "64kc3k      199  2017-04-10  2017      4   10\n",
      "62pt5t      299  2017-04-01  2017      4    1\n",
      "68ilun      324  2017-04-30  2017      4   30\n",
      "65pjcd      653  2017-04-16  2017      4   16\n",
      "6785xw      964  2017-04-24  2017      4   24\n",
      "           rank        Date  Year  Month  Day\n",
      "reddit_id                                    \n",
      "69weln       96  2017-05-08  2017      5    8\n",
      "6cjtc1      260  2017-05-21  2017      5   21\n",
      "6cv208      978  2017-05-23  2017      5   23\n",
      "           rank        Date  Year  Month  Day\n",
      "reddit_id                                    \n",
      "6gqgj0      161  2017-06-12  2017      6   12\n",
      "6jn0i0      515  2017-06-26  2017      6   26\n",
      "6isjzm      930  2017-06-22  2017      6   22\n",
      "           rank        Date  Year  Month  Day\n",
      "reddit_id                                    \n",
      "6ksoa0      222  2017-07-02  2017      7    2\n",
      "6n0xki      244  2017-07-13  2017      7   13\n",
      "6nenrd      386  2017-07-15  2017      7   15\n",
      "6ntkip      522  2017-07-17  2017      7   17\n",
      "6pvac3      559  2017-07-27  2017      7   27\n",
      "6pgha0      631  2017-07-25  2017      7   25\n",
      "6l1y96      970  2017-07-03  2017      7    3\n",
      "           rank        Date  Year  Month  Day\n",
      "reddit_id                                    \n",
      "6xaexh        7  2017-08-31  2017      8   31\n",
      "6wpnfz       48  2017-08-29  2017      8   29\n",
      "6w58i4      137  2017-08-26  2017      8   26\n",
      "6uy67x      313  2017-08-20  2017      8   20\n",
      "6v3oq8      612  2017-08-21  2017      8   21\n",
      "           rank        Date  Year  Month  Day\n",
      "reddit_id                                    \n",
      "6xemwr       25  2017-09-01  2017      9    1\n",
      "71o3wb       38  2017-09-22  2017      9   22\n",
      "71bn2m       72  2017-09-20  2017      9   20\n"
     ]
    }
   ],
   "source": [
    "for name, group in groups:\n",
    "    if name == (2016, 11):\n",
    "        pass\n",
    "    else:\n",
    "        print(group)"
   ]
  },
  {
   "cell_type": "code",
   "execution_count": 65,
   "metadata": {},
   "outputs": [
    {
     "data": {
      "text/plain": [
       "(2017, 9)"
      ]
     },
     "execution_count": 65,
     "metadata": {},
     "output_type": "execute_result"
    }
   ],
   "source": [
    "name"
   ]
  },
  {
   "cell_type": "code",
   "execution_count": null,
   "metadata": {
    "collapsed": true
   },
   "outputs": [],
   "source": []
  },
  {
   "cell_type": "code",
   "execution_count": null,
   "metadata": {
    "collapsed": true
   },
   "outputs": [],
   "source": []
  },
  {
   "cell_type": "code",
   "execution_count": null,
   "metadata": {
    "collapsed": true
   },
   "outputs": [],
   "source": []
  },
  {
   "cell_type": "code",
   "execution_count": null,
   "metadata": {
    "collapsed": true
   },
   "outputs": [],
   "source": [
    "for name, group in groups:\n",
    "    file_name = '../data/worldnews_%i_%i-%i_%i_submissiondates.txt'%(*name, *name)\n",
    "    group.to_csv(file_name, sep='\\t', columns=['Date'], header=False)"
   ]
  },
  {
   "cell_type": "code",
   "execution_count": null,
   "metadata": {
    "collapsed": true
   },
   "outputs": [],
   "source": []
  },
  {
   "cell_type": "code",
   "execution_count": null,
   "metadata": {
    "collapsed": true
   },
   "outputs": [],
   "source": []
  },
  {
   "cell_type": "code",
   "execution_count": null,
   "metadata": {
    "collapsed": true
   },
   "outputs": [],
   "source": []
  }
 ],
 "metadata": {
  "kernelspec": {
   "display_name": "Python 3",
   "language": "python",
   "name": "python3"
  },
  "language_info": {
   "codemirror_mode": {
    "name": "ipython",
    "version": 3
   },
   "file_extension": ".py",
   "mimetype": "text/x-python",
   "name": "python",
   "nbconvert_exporter": "python",
   "pygments_lexer": "ipython3",
   "version": "3.5.2"
  }
 },
 "nbformat": 4,
 "nbformat_minor": 2
}
