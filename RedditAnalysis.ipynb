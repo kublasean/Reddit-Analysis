{
 "cells": [
  {
   "cell_type": "code",
   "execution_count": 3,
   "metadata": {},
   "outputs": [
    {
     "data": {
      "text/plain": [
       "False"
      ]
     },
     "execution_count": 3,
     "metadata": {},
     "output_type": "execute_result"
    }
   ],
   "source": [
    "import praw\n",
    "\n",
    "reddit = praw.Reddit(client_id='qJwY2ZzRahm-GQ',\n",
    "                     client_secret='lkZjzt2g6MutrTm3D7c7hNl5R6w',\n",
    "                     user_agent='linux:reddit-analysis:v1.0.0 (by /u/DigitalArcheology)',\n",
    "                     username='DigitalArcheology',\n",
    "                     password='GOvols!2017')\n",
    "\n",
    "reddit.read_only"
   ]
  }
 ],
 "metadata": {
  "kernelspec": {
   "display_name": "Python 3",
   "language": "python",
   "name": "python3"
  },
  "language_info": {
   "codemirror_mode": {
    "name": "ipython",
    "version": 3
   },
   "file_extension": ".py",
   "mimetype": "text/x-python",
   "name": "python",
   "nbconvert_exporter": "python",
   "pygments_lexer": "ipython3",
   "version": "3.5.2"
  }
 },
 "nbformat": 4,
 "nbformat_minor": 2
}
